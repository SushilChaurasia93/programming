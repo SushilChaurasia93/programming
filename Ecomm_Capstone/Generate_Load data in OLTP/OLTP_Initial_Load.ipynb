{
 "cells": [
  {
   "cell_type": "code",
   "execution_count": null,
   "id": "a4823409",
   "metadata": {},
   "outputs": [],
   "source": [
    "#pip install faker"
   ]
  },
  {
   "cell_type": "code",
   "execution_count": null,
   "id": "65bda970",
   "metadata": {},
   "outputs": [],
   "source": [
    "import pandas as pd\n",
    "import numpy as np\n",
    "from datetime import datetime, timedelta\n",
    "import psycopg2\n",
    "from psycopg2 import extras  "
   ]
  },
  {
   "cell_type": "code",
   "execution_count": null,
   "id": "e6f02b38",
   "metadata": {},
   "outputs": [],
   "source": [
    "from faker import Faker\n",
    "fake = Faker('en_IN')"
   ]
  },
  {
   "cell_type": "code",
   "execution_count": null,
   "id": "b7c19602",
   "metadata": {},
   "outputs": [],
   "source": [
    "conn = psycopg2.connect(database=\"ecomm\",\n",
    "                        user='sushil', password='admin123', \n",
    "                        host='34.73.147.246', port='5432'\n",
    ")\n",
    "\n",
    "conn.autocommit = True\n",
    "cursor = conn.cursor()"
   ]
  },
  {
   "cell_type": "markdown",
   "id": "7fca1446",
   "metadata": {},
   "source": [
    "# Generate Customer Table Data"
   ]
  },
  {
   "cell_type": "code",
   "execution_count": null,
   "id": "91421418",
   "metadata": {},
   "outputs": [],
   "source": [
    "cust_fields= ['customerid','name','address','city','state','pincode','update_timestamp']"
   ]
  },
  {
   "cell_type": "code",
   "execution_count": null,
   "id": "dece065f",
   "metadata": {},
   "outputs": [],
   "source": [
    "states = {'Gujrat':['Ahmadabad','Surat','Vadodara'],\n",
    "          'Karnataka':['Belgaum','Bengaluru','Mangalore','Mysore'],\n",
    "          'Maharashtra':['Mumbai','Nagpur','Navi Mumbai','Pune'],\n",
    "          'Tamil Nadu':['Chennai','Coimbatore','Madurai'],\n",
    "          'Uttar Pradesh':['Agra','Greater Noida','Kanpur','Lucknow','Mathura'],\n",
    "          'West Bengal':['Kolkata']}"
   ]
  },
  {
   "cell_type": "code",
   "execution_count": null,
   "id": "f419b1f8",
   "metadata": {},
   "outputs": [],
   "source": [
    "customer = pd.DataFrame(columns=cust_fields,index=range(1,1000))\n",
    "Faker.seed(10)\n",
    "for i in range(1,1000):\n",
    "    customer['customerid'][i]=i\n",
    "    customer['name'][i]=fake.name()\n",
    "    customer['address'][i]=fake.street_address()    \n",
    "    customer['state'][i]=fake.random_element(states.keys())\n",
    "    customer['city'][i]=fake.random_element(states[customer['state'][i]])\n",
    "    customer['pincode'][i]=fake.postcode()\n",
    "    customer['update_timestamp'][i]=fake.date_time_this_year()\n"
   ]
  },
  {
   "cell_type": "markdown",
   "id": "c13732a9",
   "metadata": {},
   "source": [
    "# Generate Product table data"
   ]
  },
  {
   "cell_type": "code",
   "execution_count": null,
   "id": "cdefa578",
   "metadata": {},
   "outputs": [],
   "source": [
    "product_master_fields = ['productid','productcode','productname','sku','rate','isactive']"
   ]
  },
  {
   "cell_type": "code",
   "execution_count": null,
   "id": "b07143e4",
   "metadata": {},
   "outputs": [],
   "source": [
    "product_initials = ['Ashirwad','Himalaya','Krishna','Shining','Lotus','APD','Glorious','Pixel','Living']\n",
    "product_types = ['ata','seeds','Mix Fruits','rice','cement','bags']"
   ]
  },
  {
   "cell_type": "code",
   "execution_count": null,
   "id": "dde72e42",
   "metadata": {},
   "outputs": [],
   "source": [
    "productname = ((a,b) for a in product_initials for b in product_types)\n",
    "productlist=[]\n",
    "for a,b in productname:\n",
    "    productlist.append(a+ ' '+b)\n",
    "print(productlist)"
   ]
  },
  {
   "cell_type": "code",
   "execution_count": null,
   "id": "de5d1dae",
   "metadata": {},
   "outputs": [],
   "source": [
    "product_master = pd.DataFrame(columns=product_master_fields,index=range(1,101))\n",
    "Faker.seed(10)\n",
    "for i in range(1,51):\n",
    "    x = productlist[i]\n",
    "    for j in range((i*2)-1,(i*2)+1):        \n",
    "        product_master['productid'][j]=j\n",
    "        product_master['productcode'][j]=fake.bothify('?##', letters='ABCDE')\n",
    "        product_master['productname'][j]= x\n",
    "        product_master['sku'][j] = str(fake.random_int(min=1, max=20)) + fake.bothify('?', letters=['KG'])\n",
    "        product_master['rate'][j]=round(np.random.normal(1000,200))\n",
    "        product_master['isactive'][j]=fake.boolean(chance_of_getting_true=80)"
   ]
  },
  {
   "cell_type": "markdown",
   "id": "71f543f3",
   "metadata": {},
   "source": [
    "# Generate Order Details table data"
   ]
  },
  {
   "cell_type": "code",
   "execution_count": null,
   "id": "b9b49402",
   "metadata": {},
   "outputs": [],
   "source": [
    "order_detail_fields = ['orderid','customerid','order_status_update_timestamp','order_status']"
   ]
  },
  {
   "cell_type": "code",
   "execution_count": null,
   "id": "d42231ea",
   "metadata": {},
   "outputs": [],
   "source": [
    "orders_Received = pd.DataFrame(columns=order_detail_fields, index = range(1,20000))\n",
    "orders_InProgress = pd.DataFrame(columns=order_detail_fields, index = range(1,20000))\n",
    "orders_Delivered = pd.DataFrame(columns=order_detail_fields, index = range(1,20000))"
   ]
  },
  {
   "cell_type": "code",
   "execution_count": null,
   "id": "677e41bc",
   "metadata": {},
   "outputs": [],
   "source": [
    "for i in range(1,20000):\n",
    "    orders_Received['orderid'][i]=i\n",
    "    orders_Received['customerid'][i]=fake.random_element(customer['customerid'])\n",
    "    orders_Received['order_status_update_timestamp'][i]=fake.date_time_this_year()\n",
    "    orders_Received['order_status']='Received'\n",
    "    \n",
    "for i in range(1,20000):\n",
    "    orders_InProgress['orderid'][i]=i\n",
    "    orders_InProgress['customerid'][i]=orders_Received['customerid'][i]\n",
    "    orders_InProgress['order_status_update_timestamp'][i]=orders_Received['order_status_update_timestamp'][i]+timedelta(seconds=fake.random_int(min=1, max=86400))\n",
    "    orders_InProgress['order_status'][i]='InProgress'\n",
    "    \n",
    "for i in range(1,20000):\n",
    "    orders_Delivered['orderid'][i]=i\n",
    "    orders_Delivered['customerid'][i]=orders_Received['customerid'][i]\n",
    "    orders_Delivered['order_status_update_timestamp'][i]=orders_InProgress['order_status_update_timestamp'][i]+timedelta(seconds=fake.random_int(min=1, max=86400))\n",
    "    orders_Delivered['order_status'][i]='Delivered'\n",
    "    "
   ]
  },
  {
   "cell_type": "code",
   "execution_count": null,
   "id": "69fcf4d4",
   "metadata": {},
   "outputs": [],
   "source": [
    "order_details_temp = orders_Received.append(orders_InProgress)\n",
    "order_details = order_details_temp.append(orders_Delivered)\n"
   ]
  },
  {
   "cell_type": "markdown",
   "id": "cc29b427",
   "metadata": {},
   "source": [
    "# Generate Order items table data"
   ]
  },
  {
   "cell_type": "code",
   "execution_count": null,
   "id": "95efabb4",
   "metadata": {},
   "outputs": [],
   "source": [
    "order_item_fields = ['orderid','productid','quantity']"
   ]
  },
  {
   "cell_type": "code",
   "execution_count": null,
   "id": "04284075",
   "metadata": {},
   "outputs": [],
   "source": [
    "order_items = pd.DataFrame(columns=order_item_fields, index = range(1,50000))"
   ]
  },
  {
   "cell_type": "code",
   "execution_count": null,
   "id": "5ef92024",
   "metadata": {},
   "outputs": [],
   "source": [
    "for i in range(1,50000):\n",
    "    order_items['orderid'][i]=fake.random_element(order_details['orderid'])\n",
    "    order_items['productid'][i]=fake.random_element(product_master['productid'])\n",
    "    order_items['quantity'][i]=fake.random_int(min=1, max=20)"
   ]
  },
  {
   "cell_type": "code",
   "execution_count": null,
   "id": "39cfbe0f",
   "metadata": {},
   "outputs": [],
   "source": [
    "order_items = order_items.drop_duplicates(subset=['orderid', 'productid'],keep='first')\n",
    "#order_items.sort_values(by=['orderid','productid'])"
   ]
  },
  {
   "cell_type": "markdown",
   "id": "a225ec05",
   "metadata": {},
   "source": [
    "# Load DFs into Postgres tables"
   ]
  },
  {
   "cell_type": "code",
   "execution_count": null,
   "id": "ec9355ee",
   "metadata": {},
   "outputs": [],
   "source": [
    "table = 'customer_master'\n",
    "df_columns = \",\".join(cust_fields)\n",
    "values = \"VALUES({})\".format(\",\".join([\"%s\" for _ in cust_fields])) \n",
    "insert_stmt = \"INSERT INTO {} ({}) {}\".format(table,df_columns,values)\n",
    "\n",
    "psycopg2.extras.execute_batch(cursor, insert_stmt, customer.values)\n",
    "\n",
    "conn.commit()"
   ]
  },
  {
   "cell_type": "code",
   "execution_count": null,
   "id": "4f6c8cfa",
   "metadata": {},
   "outputs": [],
   "source": [
    "table = 'product_master'\n",
    "df_columns = \",\".join(product_master_fields)\n",
    "values = \"VALUES({})\".format(\",\".join([\"%s\" for _ in product_master_fields])) \n",
    "insert_stmt = \"INSERT INTO {} ({}) {}\".format(table,df_columns,values)\n",
    "\n",
    "psycopg2.extras.execute_batch(cursor, insert_stmt, product_master.values)\n",
    "\n",
    "conn.commit()"
   ]
  },
  {
   "cell_type": "code",
   "execution_count": null,
   "id": "df052c51",
   "metadata": {},
   "outputs": [],
   "source": [
    "table = 'order_details'\n",
    "df_columns = \",\".join(order_detail_fields)\n",
    "values = \"VALUES({})\".format(\",\".join([\"%s\" for _ in order_detail_fields])) \n",
    "insert_stmt = \"INSERT INTO {} ({}) {}\".format(table,df_columns,values)\n",
    "\n",
    "psycopg2.extras.execute_batch(cursor, insert_stmt, order_details.values)\n",
    "\n",
    "conn.commit()"
   ]
  },
  {
   "cell_type": "code",
   "execution_count": null,
   "id": "df029134",
   "metadata": {},
   "outputs": [],
   "source": [
    "table = 'order_items'\n",
    "df_columns = \",\".join(order_item_fields)\n",
    "values = \"VALUES({})\".format(\",\".join([\"%s\" for _ in order_item_fields])) \n",
    "insert_stmt = \"INSERT INTO {} ({}) {}\".format(table,df_columns,values)\n",
    "\n",
    "psycopg2.extras.execute_batch(cursor, insert_stmt, order_items.values)\n",
    "\n",
    "conn.commit()"
   ]
  },
  {
   "cell_type": "code",
   "execution_count": null,
   "id": "10426b23",
   "metadata": {},
   "outputs": [],
   "source": []
  },
  {
   "cell_type": "markdown",
   "id": "d81158c2",
   "metadata": {},
   "source": [
    "# Validate"
   ]
  },
  {
   "cell_type": "code",
   "execution_count": null,
   "id": "5e446bb4",
   "metadata": {},
   "outputs": [],
   "source": [
    "sql1='''select count(1) from customer_master limit 50;'''"
   ]
  },
  {
   "cell_type": "code",
   "execution_count": null,
   "id": "fc8cf0fd",
   "metadata": {},
   "outputs": [],
   "source": [
    "sql2='''select count(1) from product_master  limit 50;'''"
   ]
  },
  {
   "cell_type": "code",
   "execution_count": null,
   "id": "aa46cd8b",
   "metadata": {},
   "outputs": [],
   "source": [
    "sql3='''select count(1) from order_details  limit 50;'''"
   ]
  },
  {
   "cell_type": "code",
   "execution_count": null,
   "id": "55ff85db",
   "metadata": {},
   "outputs": [],
   "source": [
    "sql4='''select count(1) from order_items limit 50;'''"
   ]
  },
  {
   "cell_type": "code",
   "execution_count": null,
   "id": "b308f44e",
   "metadata": {},
   "outputs": [],
   "source": [
    "cursor.execute(sql1)\n",
    "for i in cursor.fetchall():\n",
    "    print(i)"
   ]
  },
  {
   "cell_type": "code",
   "execution_count": null,
   "id": "5a6bbbbb",
   "metadata": {},
   "outputs": [],
   "source": [
    "#Purge all OLTP tables\n",
    "for tbl in ('order_details','order_items','customer_master','product_master'):\n",
    "    sql=f'''delete from {tbl};'''\n",
    "    cursor.execute(sql)"
   ]
  },
  {
   "cell_type": "code",
   "execution_count": null,
   "id": "9eb8bcb7",
   "metadata": {},
   "outputs": [],
   "source": [
    "#ETL Logs table\n",
    "sql1='''Select * from etlextractlog;'''\n",
    "cursor.execute(sql1)\n",
    "for i in cursor.fetchall():\n",
    "    print(i)"
   ]
  },
  {
   "cell_type": "code",
   "execution_count": null,
   "id": "00791f85",
   "metadata": {},
   "outputs": [],
   "source": []
  }
 ],
 "metadata": {
  "kernelspec": {
   "display_name": "Python 3",
   "language": "python",
   "name": "python3"
  },
  "language_info": {
   "codemirror_mode": {
    "name": "ipython",
    "version": 3
   },
   "file_extension": ".py",
   "mimetype": "text/x-python",
   "name": "python",
   "nbconvert_exporter": "python",
   "pygments_lexer": "ipython3",
   "version": "3.8.8"
  }
 },
 "nbformat": 4,
 "nbformat_minor": 5
}
