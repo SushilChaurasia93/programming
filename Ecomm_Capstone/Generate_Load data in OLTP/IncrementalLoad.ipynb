{
 "cells": [
  {
   "cell_type": "code",
   "execution_count": null,
   "id": "65bda970",
   "metadata": {},
   "outputs": [],
   "source": [
    "import pandas as pd\n",
    "import numpy as np\n",
    "from datetime import datetime, timedelta"
   ]
  },
  {
   "cell_type": "code",
   "execution_count": null,
   "id": "87dacd2c",
   "metadata": {},
   "outputs": [],
   "source": [
    "import psycopg2\n",
    "from psycopg2 import extras  "
   ]
  },
  {
   "cell_type": "code",
   "execution_count": null,
   "id": "e6f02b38",
   "metadata": {},
   "outputs": [],
   "source": [
    "from faker import Faker\n",
    "fake = Faker('en_IN')"
   ]
  },
  {
   "cell_type": "code",
   "execution_count": null,
   "id": "b7c19602",
   "metadata": {},
   "outputs": [],
   "source": [
    "conn = psycopg2.connect(database=\"ecomm\",\n",
    "                        user='sushil', password='admin123', \n",
    "                        host='34.73.147.246', port='5432'\n",
    ")\n",
    "\n",
    "conn.autocommit = True\n",
    "cursor = conn.cursor()"
   ]
  },
  {
   "cell_type": "markdown",
   "id": "71f543f3",
   "metadata": {},
   "source": [
    "# Generate 5000 new Orders (incremental load)"
   ]
  },
  {
   "cell_type": "code",
   "execution_count": null,
   "id": "4de3d2f2",
   "metadata": {},
   "outputs": [],
   "source": [
    "sql = '''select max(customerid) from customer_master;'''\n",
    "cursor.execute(sql)\n",
    "for i in cursor.fetchall():\n",
    "    maxcustid=i\n",
    "maxcustid = maxcustid[0]"
   ]
  },
  {
   "cell_type": "code",
   "execution_count": null,
   "id": "546abeb6",
   "metadata": {},
   "outputs": [],
   "source": [
    "sql = '''select max(productid) from product_master;'''\n",
    "cursor.execute(sql)\n",
    "for i in cursor.fetchall():\n",
    "    maxproductid=i\n",
    "maxproductid = maxproductid[0]\n"
   ]
  },
  {
   "cell_type": "code",
   "execution_count": null,
   "id": "b9b49402",
   "metadata": {},
   "outputs": [],
   "source": [
    "order_detail_fields = ['orderid','customerid','order_status_update_timestamp','order_status']"
   ]
  },
  {
   "cell_type": "code",
   "execution_count": null,
   "id": "d42231ea",
   "metadata": {},
   "outputs": [],
   "source": [
    "orders_Received = pd.DataFrame(columns=order_detail_fields, index = range(20000,25000))\n",
    "orders_InProgress = pd.DataFrame(columns=order_detail_fields, index = range(20000,25000))\n",
    "orders_Delivered = pd.DataFrame(columns=order_detail_fields, index = range(20000,25000))"
   ]
  },
  {
   "cell_type": "code",
   "execution_count": null,
   "id": "677e41bc",
   "metadata": {},
   "outputs": [],
   "source": [
    "for i in range(20000,25000):\n",
    "    orders_Received['orderid'][i]=i\n",
    "    orders_Received['customerid'][i]=fake.random_int(min=1, max=maxcustid)\n",
    "    orders_Received['order_status_update_timestamp'][i]=fake.future_datetime('+30d')\n",
    "    orders_Received['order_status']='Received'\n",
    "    \n",
    "for i in range(20000,25000):\n",
    "    orders_InProgress['orderid'][i]=i\n",
    "    orders_InProgress['customerid'][i]=orders_Received['customerid'][i]\n",
    "    orders_InProgress['order_status_update_timestamp'][i]=orders_Received['order_status_update_timestamp'][i]+timedelta(seconds=fake.random_int(min=1, max=86400))\n",
    "    orders_InProgress['order_status'][i]='InProgress'\n",
    "    \n",
    "for i in range(20000,25000):\n",
    "    orders_Delivered['orderid'][i]=i\n",
    "    orders_Delivered['customerid'][i]=orders_Received['customerid'][i]\n",
    "    orders_Delivered['order_status_update_timestamp'][i]=orders_InProgress['order_status_update_timestamp'][i]+timedelta(seconds=fake.random_int(min=1, max=86400))\n",
    "    orders_Delivered['order_status'][i]='Delivered'\n",
    "    "
   ]
  },
  {
   "cell_type": "code",
   "execution_count": null,
   "id": "69fcf4d4",
   "metadata": {},
   "outputs": [],
   "source": [
    "order_details_temp = orders_Received.append(orders_InProgress)\n",
    "order_details = order_details_temp.append(orders_Delivered)\n",
    "order_details.sort_values(by=['orderid','order_status_update_timestamp'])"
   ]
  },
  {
   "cell_type": "code",
   "execution_count": null,
   "id": "922bc544",
   "metadata": {},
   "outputs": [],
   "source": []
  },
  {
   "cell_type": "code",
   "execution_count": null,
   "id": "95efabb4",
   "metadata": {},
   "outputs": [],
   "source": [
    "order_item_fields = ['orderid','productid','quantity']"
   ]
  },
  {
   "cell_type": "code",
   "execution_count": null,
   "id": "04284075",
   "metadata": {},
   "outputs": [],
   "source": [
    "order_items = pd.DataFrame(columns=order_item_fields, index = range(1,5001))"
   ]
  },
  {
   "cell_type": "code",
   "execution_count": null,
   "id": "5ef92024",
   "metadata": {},
   "outputs": [],
   "source": [
    "for i in range(1,5001):\n",
    "    order_items['orderid'][i]=fake.random_element(order_details['orderid'])\n",
    "    order_items['productid'][i]=fake.random_int(min=1, max=maxproductid)\n",
    "    order_items['quantity'][i]=fake.random_int(min=1, max=20)"
   ]
  },
  {
   "cell_type": "code",
   "execution_count": null,
   "id": "39cfbe0f",
   "metadata": {},
   "outputs": [],
   "source": [
    "order_items = order_items.drop_duplicates(subset=['orderid', 'productid'],keep='first')\n",
    "order_items.sort_values(by=['orderid','productid'])"
   ]
  },
  {
   "cell_type": "markdown",
   "id": "25b2a836",
   "metadata": {},
   "source": [
    "# Load incremental data into OLTP"
   ]
  },
  {
   "cell_type": "code",
   "execution_count": null,
   "id": "df052c51",
   "metadata": {},
   "outputs": [],
   "source": [
    "table = 'order_details'\n",
    "df_columns = \",\".join(order_detail_fields)\n",
    "values = \"VALUES({})\".format(\",\".join([\"%s\" for _ in order_detail_fields])) \n",
    "insert_stmt = \"INSERT INTO {} ({}) {}\".format(table,df_columns,values)\n",
    "\n",
    "psycopg2.extras.execute_batch(cursor, insert_stmt, order_details.values)\n",
    "\n",
    "conn.commit()"
   ]
  },
  {
   "cell_type": "code",
   "execution_count": null,
   "id": "df029134",
   "metadata": {},
   "outputs": [],
   "source": [
    "table = 'order_items'\n",
    "df_columns = \",\".join(order_item_fields)\n",
    "values = \"VALUES({})\".format(\",\".join([\"%s\" for _ in order_item_fields])) \n",
    "insert_stmt = \"INSERT INTO {} ({}) {}\".format(table,df_columns,values)\n",
    "\n",
    "psycopg2.extras.execute_batch(cursor, insert_stmt, order_items.values)\n",
    "\n",
    "conn.commit()"
   ]
  },
  {
   "cell_type": "code",
   "execution_count": null,
   "id": "10426b23",
   "metadata": {},
   "outputs": [],
   "source": []
  },
  {
   "cell_type": "markdown",
   "id": "d81158c2",
   "metadata": {},
   "source": [
    "# Validate"
   ]
  },
  {
   "cell_type": "code",
   "execution_count": null,
   "id": "5e446bb4",
   "metadata": {},
   "outputs": [],
   "source": [
    "sql1='''select count(1) from customer_master limit 50;'''"
   ]
  },
  {
   "cell_type": "code",
   "execution_count": null,
   "id": "fc8cf0fd",
   "metadata": {},
   "outputs": [],
   "source": [
    "sql2='''select count(1) from product_master  limit 50;'''"
   ]
  },
  {
   "cell_type": "code",
   "execution_count": null,
   "id": "aa46cd8b",
   "metadata": {},
   "outputs": [],
   "source": [
    "sql3='''select count(1) from order_details  limit 50;'''"
   ]
  },
  {
   "cell_type": "code",
   "execution_count": null,
   "id": "55ff85db",
   "metadata": {},
   "outputs": [],
   "source": [
    "sql4='''select count(1) from order_items limit 50;'''"
   ]
  },
  {
   "cell_type": "code",
   "execution_count": null,
   "id": "2c3fa7e1",
   "metadata": {},
   "outputs": [],
   "source": [
    "cursor.execute(sql3)\n",
    "for i in cursor.fetchall():\n",
    "    print(i)"
   ]
  }
 ],
 "metadata": {
  "kernelspec": {
   "display_name": "Python 3",
   "language": "python",
   "name": "python3"
  },
  "language_info": {
   "codemirror_mode": {
    "name": "ipython",
    "version": 3
   },
   "file_extension": ".py",
   "mimetype": "text/x-python",
   "name": "python",
   "nbconvert_exporter": "python",
   "pygments_lexer": "ipython3",
   "version": "3.8.8"
  }
 },
 "nbformat": 4,
 "nbformat_minor": 5
}
